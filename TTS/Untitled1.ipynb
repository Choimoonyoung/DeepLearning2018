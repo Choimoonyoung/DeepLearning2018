{
 "cells": [
  {
   "cell_type": "markdown",
   "metadata": {},
   "source": [
    "# make Tacotron\n",
    "#Decoder"
   ]
  },
  {
   "cell_type": "code",
   "execution_count": 5,
   "metadata": {},
   "outputs": [],
   "source": [
    "import torch\n",
    "import torch.nn as nn\n",
    "import torch.optim as optim\n",
    "from torch.autograd import Variable\n",
    "from torch.utils.data import DataLoader\n",
    "from torch.utils.data import sampler\n",
    "\n",
    "import numpy as np\n",
    "\n",
    "#have to fix all shapes"
   ]
  },
  {
   "cell_type": "code",
   "execution_count": null,
   "metadata": {},
   "outputs": [],
   "source": [
    "class BahnadauAttention(nn.Module):\n",
    "    def __init__(self):\n",
    "        super(BahnadauAttention, self).__init__()\n",
    "        self.v = nn.Linear(256,1,bias=False)\n",
    "        self.query_layer = nn.Linear(256,256,bias=False)\n",
    "        self.tanh = nn.Tanh()\n",
    "    def forward(self, query, memory):\n",
    "        attention_weight = self.v(self.tanh(self.query_layer(query) + memory))\n",
    "        return attention_weight"
   ]
  },
  {
   "cell_type": "code",
   "execution_count": null,
   "metadata": {},
   "outputs": [],
   "source": [
    "class AttentionWrapper(nn.Module):\n",
    "    def __init__(self, rnn, use_attention):\n",
    "        super(AttentionWrapper, self).__init__()\n",
    "        self.rnn_cell = rnn\n",
    "        self.attention = use_attention\n",
    "        self.projection_for_decoderRNN = nn.Linear(512, 256, bias=False)\n",
    "    def forward(memory, decoder_input, cell_hidden):\n",
    "        \"\"\"\n",
    "        memory = (batch_size, encoder_T, dim)\n",
    "        decoder_input = (batch_size, self.r, dim)\n",
    "        cell_hidden (previous time step cell state) = (batch, dim)\n",
    "        \"\"\"\n",
    "        #cell_input = torch.cat((decoder_input, prev_attention), -1) -- why do we have to concat?\n",
    "        cell_input = decoder_input\n",
    "        query = self.rnn_cell(cell_input, cell_hidden)\n",
    "        #feed into attention\n",
    "        attention_weights = self.attention(query, memory)\n",
    "        #make context vector\n",
    "        attention_weights = F.softmax(attention_weights)\n",
    "        context = torch.bmm(attention_weights.view([batch, 1, -1]), memory).squeeze(1)\n",
    "        out = self.projection_for_decoderRNN(dorch.cat([context, query],dim=-1))\n",
    "        return out, query"
   ]
  },
  {
   "cell_type": "code",
   "execution_count": 6,
   "metadata": {},
   "outputs": [],
   "source": [
    "class Decoder(nn.Module):\n",
    "    def __init__(self, in_dim, r=2):\n",
    "        super(Decoder, self).__init__()\n",
    "        self.in_dim = in_dim\n",
    "        self.r = r\n",
    "        self.prenet = Prenet()\n",
    "        self.attention_RNN = AttentionWrapper(nn.GRUCell(input_size=256, hidden_size =256), BahdanauAttention())\n",
    "        self.decoder_RNN = nn.ModuleList(\n",
    "                            [nn.GRUCell(input_size=256,hidden_size=256) for _ in range(2)])\n",
    "        self.spectro_layer = nn.Linear(256,r,bias=False)\n",
    "        self.epsilon = 0.2\n",
    "        self.maximum_step = 1000\n",
    "        return\n",
    "    \n",
    "    def forward(self, decoder_input=None, memory):\n",
    "        \"\"\"\n",
    "        if training time, input is given, else input is decoder outputs\n",
    "        input : \n",
    "            memory (encoder_output) = (batch_size, encoder_T, dim)\n",
    "            decoder_input = (batch_size, decoder_T/self.r, dim)\n",
    "        output:\n",
    "            \n",
    "        \"\"\"\n",
    "        batch_size = memory.size(0)\n",
    "        test = if decoder_input is None\n",
    "        decoder_T = 0\n",
    "        if not test:\n",
    "            decoder_T = decoder_input.size(1)\n",
    "        decoderRNN_output = [memory.zero_() for _ in range(len(decoder_RNN))] \n",
    "        #<GO> Frame\n",
    "        current_input = torch.zero([batch_size, 1 * self.r, 256])\n",
    "        t = 0\n",
    "        targets = []\n",
    "        \n",
    "        while (True):\n",
    "            t = t + 1\n",
    "            prenet_output = self.prenet(current_input)\n",
    "            attention_output, cell_hidden = self.attention(memory, prenet_output, cell_hidden)\n",
    "            \n",
    "            for idx in range(2):\n",
    "                decoderRNN_output[idx] = self.decoder_RNN[idx](attention_output, decoder_output[idx])\n",
    "                decoderRNN_output[idx] += attention_output\n",
    "                attention_output = decoder_output[idx]\n",
    "            \n",
    "            target=self.spectro_layer(attention_output)\n",
    "            targets += [target]\n",
    "            \n",
    "            #check if this target is the end\n",
    "            if test:\n",
    "                if t > 0 and (target<=self.epsilon).all(): break\n",
    "                if t > self.maximum_step: \n",
    "                    print(\"ERROR : Not converge\")\n",
    "                    break\n",
    "            else:\n",
    "                if t >= decoder_T:\n",
    "                    print(\"ERROR : Iterate too much in train time\")\n",
    "                    break\n",
    "                    \n",
    "            #change current input\n",
    "            if test:\n",
    "                current_input = target\n",
    "            else:\n",
    "                current_input = decoder_input[t-1]\n",
    "            \n",
    "        return outputs\n",
    "             "
   ]
  },
  {
   "cell_type": "code",
   "execution_count": 4,
   "metadata": {},
   "outputs": [
    {
     "name": "stdout",
     "output_type": "stream",
     "text": [
      "tensor([[1., 2., 3.]])\n"
     ]
    }
   ],
   "source": []
  },
  {
   "cell_type": "code",
   "execution_count": null,
   "metadata": {},
   "outputs": [],
   "source": []
  }
 ],
 "metadata": {
  "kernelspec": {
   "display_name": "Python 3",
   "language": "python",
   "name": "python3"
  },
  "language_info": {
   "codemirror_mode": {
    "name": "ipython",
    "version": 3
   },
   "file_extension": ".py",
   "mimetype": "text/x-python",
   "name": "python",
   "nbconvert_exporter": "python",
   "pygments_lexer": "ipython3",
   "version": "3.6.4"
  }
 },
 "nbformat": 4,
 "nbformat_minor": 2
}
